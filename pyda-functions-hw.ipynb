{
 "cells": [
  {
   "cell_type": "markdown",
   "metadata": {},
   "source": [
    "## Задание 1"
   ]
  },
  {
   "cell_type": "markdown",
   "metadata": {},
   "source": [
    "Дан список вида:"
   ]
  },
  {
   "cell_type": "code",
   "execution_count": null,
   "metadata": {},
   "outputs": [],
   "source": [
    "data = [\n",
    "    [13, 25, 23, 34, 67],\n",
    "    [45, 32, 44, 47, 15],\n",
    "    [12, 33, 23, 95, 9],\n",
    "    [13, 53, 34, 35, 87],\n",
    "    [76, 7, 88, 300, 90]\n",
    "]"
   ]
  },
  {
   "cell_type": "markdown",
   "metadata": {},
   "source": [
    "Напишите функцию, которая возвращает сумму элементов на диагонали. Т. е. 13+32+23+35.  \n",
    "Список может быть любой длины, но всегда является \"квадратным\" (количество элементов во вложенных списках равно их количеству)."
   ]
  },
  {
   "cell_type": "code",
   "execution_count": null,
   "metadata": {},
   "outputs": [],
   "source": [
    "def sum_by_diagon(data_list):\n",
    "    i = 0\n",
    "    diagon_sum = 0\n",
    "    for string in data:\n",
    "        diagon_sum += string[i]\n",
    "        i += 1\n",
    "    return diagon_sum"
   ]
  },
  {
   "cell_type": "code",
   "execution_count": null,
   "metadata": {},
   "outputs": [],
   "source": [
    "sum_by_diagon(data)"
   ]
  },
  {
   "cell_type": "markdown",
   "metadata": {},
   "source": [
    "## Задание 2"
   ]
  },
  {
   "cell_type": "markdown",
   "metadata": {},
   "source": [
    "Напишите функцию, возвращающую сумму первых n чисел Фибоначчи (для этого вам может понадобится ознакомиться с рекурсией)."
   ]
  },
  {
   "cell_type": "code",
   "execution_count": null,
   "metadata": {},
   "outputs": [],
   "source": [
    "def Fibo_nums_sum(n):\n",
    "    fibo_list = []\n",
    "    fi1 = 1\n",
    "    fi2 = 1\n",
    "    dig = int(n)\n",
    "    i = 0\n",
    "    if  dig < 2:\n",
    "        return dig\n",
    "    fibo_list.append(fi1)\n",
    "    fibo_list.append(fi2)\n",
    "    while i < dig - 2:\n",
    "        sum_fibo = fi1 + fi2\n",
    "        fi1 = fi2\n",
    "        fi2 = sum_fibo\n",
    "        i += 1\n",
    "        fibo_list.append(fi2)\n",
    "    return sum(fibo_list)\n",
    "\n",
    "result = Fibo_nums_sum(int(input('Введите количество чисел ряда, которое хотите сложить: ')))\n",
    "print(\"Сумма чисел равна \", result)"
   ]
  },
  {
   "cell_type": "markdown",
   "metadata": {},
   "source": [
    "## Задание 3\n"
   ]
  },
  {
   "cell_type": "markdown",
   "metadata": {},
   "source": [
    "Напишите функцию, преобразующую произвольный список вида ['2018-01-01', 'yandex', 'cpc', 100] (он может быть любой длины) в словарь {'2018-01-01': {'yandex': {'cpc': 100}}}"
   ]
  },
  {
   "cell_type": "markdown",
   "metadata": {},
   "source": [
    "Алгоритм примерно такой:\n",
    "1) взять последний элемент списка, сохранить его в переменную\n",
    "2) продумать такой цикл, при котором созданная на первом шаге переменная будет перезаписываться словарем. В этом словаре ключом будет предпоследний элемент списка, а значением ключа будет являться сама переменная.\n",
    "\n"
   ]
  },
  {
   "cell_type": "code",
   "execution_count": null,
   "metadata": {},
   "outputs": [],
   "source": [
    "data_list = ['2018-01-01', 'yandex', 'cpc', 100]\n",
    "\n",
    "def dict_my_list(some_list):\n",
    "    i = 1\n",
    "    dict_from_list = some_list[-1]\n",
    "    while i <= len(some_list) - 1:\n",
    "        dict_from_list = {some_list[-i-1]: dict_from_list}\n",
    "        i += 1\n",
    "    return dict_from_list\n",
    "\n",
    "dict_my_list(data_list)"
   ]
  },
  {
   "cell_type": "markdown",
   "metadata": {},
   "source": [
    "## Задание 4"
   ]
  },
  {
   "cell_type": "markdown",
   "metadata": {},
   "source": [
    "Вы работаете секретарем и вам постоянно приходят различные документы. Вы должны быть очень внимательны, чтобы не потерять ни один документ. Каталог документов хранится в следующем виде:"
   ]
  },
  {
   "cell_type": "code",
   "execution_count": 14,
   "metadata": {},
   "outputs": [],
   "source": [
    "documents = [\n",
    "    {'type': 'passport', 'number': '2207 876234', 'name': 'Василий Гупкин'},\n",
    "    {'type': 'invoice', 'number': '11-2', 'name': 'Геннадий Покемонов'},\n",
    "    {'type': 'insurance', 'number': '10006', 'name': 'Аристарх Павлов'}\n",
    "]"
   ]
  },
  {
   "cell_type": "markdown",
   "metadata": {},
   "source": [
    "Перечень полок, на которых находятся документы хранится в следующем виде:"
   ]
  },
  {
   "cell_type": "code",
   "execution_count": 15,
   "metadata": {},
   "outputs": [],
   "source": [
    "directories = {\n",
    "    '1': ['2207 876234', '11-2', '5455 028765'],\n",
    "    '2': ['10006', '5400 028765', '5455 002299'],\n",
    "    '3': []\n",
    "}"
   ]
  },
  {
   "cell_type": "markdown",
   "metadata": {},
   "source": [
    "Необходимо реализовать пользовательские команды (внимание! это не название функций, которые должны быть выразительными, а команды, которые вводит пользователь, чтобы получить необходимый результат):\n",
    "  \n",
    "- p – people – команда, которая спросит номер документа и выведет имя человека, которому он принадлежит;  \n",
    "- s – shelf – команда, которая спросит номер документа и выведет номер полки, на которой он находится  \n",
    "Правильно обработайте ситуацию, когда пользователь будет вводить несуществующий документ.\n",
    "- l – list – команда, которая выведет список всех документов в формате   \n",
    "**passport \"2207 876234\" \"Василий Гупкин\"**  \n",
    "- as – add shelf – команда, которая спросит номер новой полки и добавит ее в перечень\n",
    "- d – delete – команда, которая спросит номер документа и удалит его из каталога и из перечня полок. Предусмотрите сценарий, когда пользователь вводит несуществующий документ;  \n",
    "- m – move – команда, которая спросит номер документа и целевую полку и переместит его с текущей полки на целевую. Корректно обработайте кейсы, когда пользователь пытается переместить несуществующий документ или переместить документ на несуществующую полку;  \n",
    "- a – add – команда, которая добавит новый документ в каталог и в перечень полок, спросив его номер, тип, имя владельца и номер полки, на котором он будет храниться."
   ]
  },
  {
   "cell_type": "code",
   "execution_count": 4,
   "metadata": {},
   "outputs": [],
   "source": [
    "def find_person_by_docnumber():\n",
    "    docnumber = input('Введите номер нужного документа: ')\n",
    "    for doc in documents:\n",
    "        if doc['number'] == docnumber:\n",
    "            return doc.get('name')\n",
    "    return 'Такого документа нет в базе. Проверьте номер и попробуйте ввести его заново'"
   ]
  },
  {
   "cell_type": "code",
   "execution_count": 5,
   "metadata": {},
   "outputs": [],
   "source": [
    "def find_shelf_by_docnumber():\n",
    "    docnumber = input('Введите номер нужного документа: ')\n",
    "    for shelf, docs in directories.items():\n",
    "        for i in docs:\n",
    "            if i == docnumber:\n",
    "                return f'Ваш документ находится на полке {shelf}'\n",
    "        return 'Такого документа нет в базе. Проверьте номер и попробуйте ввести его заново'"
   ]
  },
  {
   "cell_type": "code",
   "execution_count": 6,
   "metadata": {},
   "outputs": [],
   "source": [
    "def list_all_docs(some_list):\n",
    "    for doc in some_list:\n",
    "        print(doc.get('type'), doc.get('number'), doc.get('name'))\n",
    "    return"
   ]
  },
  {
   "cell_type": "code",
   "execution_count": 7,
   "metadata": {},
   "outputs": [],
   "source": [
    "def add_shelf():\n",
    "    new_shelf = input('Введите номер новой полки: ')\n",
    "    if str.isnumeric(new_shelf):\n",
    "        if new_shelf in directories.keys():\n",
    "            return \"Полка с таким номером уже существует\"\n",
    "            add_shelf()\n",
    "        else:\n",
    "            directories[new_shelf] = []\n",
    "            return f'Полка № {new_shelf} добавлена в перечень: {list(directories.keys())}'\n",
    "    else:\n",
    "        print('Номер полки должен быть целым положительным числом. Введите номер заново')\n",
    "        add_shelf()"
   ]
  },
  {
   "cell_type": "markdown",
   "metadata": {},
   "source": [
    "Следующая функция — для удаления документа по номеру из списка документов и с полки. Разделила ее на три — отдельно удаляется документ из списка, затем с полки, последняя функция объединяет эти две.\n",
    "\n",
    "Все работает, доки удаляются. Но где-то я накосячила с выводом — не выходит return из двух первых функций о том, что док успешно удален."
   ]
  },
  {
   "cell_type": "code",
   "execution_count": 8,
   "metadata": {},
   "outputs": [],
   "source": [
    "def del_doc_from_documents(num_doc):\n",
    "    for doc in documents:\n",
    "        if doc['number'] == num_doc:\n",
    "            index_doc = documents.index(doc)\n",
    "            return f'Документ с номером {documents.pop(index_doc)} удален из базы'\n",
    "    return f'Такого документа нет в списке документов. Проверьте номер и попробуйте ввести его заново'\n",
    "\n",
    "def del_doc_from_shelf(num_doc):\n",
    "    result = ''\n",
    "    for shelf, docs in directories.items():\n",
    "        for i in docs:\n",
    "            if i == num_doc:\n",
    "                docs.remove(i)\n",
    "                result = f'Документ с номером {num_doc} удален с полки'\n",
    "            else:\n",
    "                result = f'Такого документа нет на полке. Проверьте номер и попробуйте ввести его заново'\n",
    "        return result\n",
    "\n",
    "def del_doc():\n",
    "    num_doc = input('Введите номер документа, который нужно удалить: ')\n",
    "    del_doc_from_documents(num_doc)\n",
    "    del_doc_from_shelf(num_doc)"
   ]
  },
  {
   "cell_type": "code",
   "execution_count": 9,
   "metadata": {},
   "outputs": [],
   "source": [
    "def move_doc_on_shelves(shelves):\n",
    "    doc_to_move = input('Введите номер документа, который хотите переместить: ')\n",
    "    num_shelf = input('Введите номер полки, на которую хотите переместить документ: ')\n",
    "    a = shelves.get(num_shelf)\n",
    "    \n",
    "    for shelf, docs in shelves.items():\n",
    "        \n",
    "        for i in docs:\n",
    "            if i == doc_to_move:\n",
    "                docs.remove(doc_to_move)\n",
    "            else:\n",
    "                return ('Документа с таким номером нет на полках')\n",
    "                \n",
    "        a.append(doc_to_move)\n",
    "        return (f'Документ под номером {doc_to_move} теперь находится на полке {num_shelf}: {a}')"
   ]
  },
  {
   "cell_type": "code",
   "execution_count": 11,
   "metadata": {},
   "outputs": [],
   "source": [
    "def add_doc(doc_number, doc_type, owner_name, shelf):\n",
    "    doc_number = input('Введите номер документа, который хотите добавить: ')\n",
    "    doc_type = input('Введите тип этого документа: ')\n",
    "    owner_name = input('Введите имя владельца документа: ')\n",
    "    shelf_for_doc = input('Введите номер полки, на которую нуно поместить документ: ')\n",
    "    \n",
    "    documents.append({'type': doc_type, 'number': doc_type, 'name': owner_name})\n",
    "    \n",
    "    if shelf_for_doc in directories.keys():\n",
    "        directories[shelf_for_doc].append(doc_number)"
   ]
  },
  {
   "cell_type": "code",
   "execution_count": 21,
   "metadata": {},
   "outputs": [
    {
     "name": "stdout",
     "output_type": "stream",
     "text": [
      "Введите команду: p\n",
      "Введите номер нужного документа: 10006\n"
     ]
    },
    {
     "data": {
      "text/plain": [
       "'Аристарх Павлов'"
      ]
     },
     "execution_count": 21,
     "metadata": {},
     "output_type": "execute_result"
    }
   ],
   "source": [
    "def user_command():\n",
    "    command = input('Введите команду: ')\n",
    "    if command == 'p':\n",
    "        return find_person_by_docnumber()\n",
    "    elif command == 's':\n",
    "        return find_shelf_by_docnumber()\n",
    "    elif command == 'l':\n",
    "        return list_all_docs()\n",
    "    elif command == 'a':\n",
    "        return add_shelf()\n",
    "    elif command == 'd':\n",
    "        return del_doc()\n",
    "    elif command == 'm':\n",
    "        return move_doc()\n",
    "    elif command == 'a':\n",
    "        return add_doc()\n",
    "    \n",
    "user_command()"
   ]
  },
  {
   "cell_type": "code",
   "execution_count": null,
   "metadata": {},
   "outputs": [],
   "source": []
  },
  {
   "cell_type": "code",
   "execution_count": null,
   "metadata": {},
   "outputs": [],
   "source": []
  }
 ],
 "metadata": {
  "kernelspec": {
   "display_name": "Python 3",
   "language": "python",
   "name": "python3"
  },
  "language_info": {
   "codemirror_mode": {
    "name": "ipython",
    "version": 3
   },
   "file_extension": ".py",
   "mimetype": "text/x-python",
   "name": "python",
   "nbconvert_exporter": "python",
   "pygments_lexer": "ipython3",
   "version": "3.7.4"
  }
 },
 "nbformat": 4,
 "nbformat_minor": 2
}
